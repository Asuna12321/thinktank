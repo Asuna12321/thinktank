{
 "cells": [
  {
   "cell_type": "code",
   "execution_count": 4,
   "metadata": {
    "collapsed": true,
    "pycharm": {
     "is_executing": false
    }
   },
   "outputs": [],
   "source": [
    "import pandas as pd\n",
    "import json\n",
    "\n",
    "import os\n",
    "from config import DATA_PATH\n",
    "\n",
    "author_prefix_lst = ['#index', '#n', '#a', '#pc', '#cn', '#hi', '#pi', '#upi', '#t']\n",
    "author_cols = ['author_id', 'author_name', 'affiliations', 'published count', 'citation num',\n",
    "               'H-index', 'P-index of equal A', 'P-index of unequal A', 'interests']\n",
    "\n",
    "paper_prefix_lst = ['#index', '#*', '#@', '#t', '#c', '#%']\n",
    "paper_cols = ['id', 'title', 'authors_name', 'year', 'venue_name', 'references']\n",
    "\n",
    "JSON_KEYWORDS = ['id', 'authors', 'venue', 'year', 'keywords',\n",
    "                 'references', 'n_citation', 'doc_type']\n",
    "JSON_COLUMNS = ['id', 'author_id', 'author_org', 'venue_id', ' venue_name',\n",
    "                'year', 'keywords', 'references', 'n_cites', 'doc_type']"
   ]
  },
  {
   "cell_type": "code",
   "execution_count": 2,
   "outputs": [],
   "source": [
    "def parsejson2df(file, col_lst=JSON_KEYWORDS):\n",
    "    \"\"\" Parse & load json file to Dataframe.\n",
    "\n",
    "    Data at https://originalstatic.aminer.cn/misc/dblp.v12.7z\n",
    "    ** THIS FILE IS PRETTY LARGE (12GB when unzipped), the file is loaded by readline,\n",
    "    HOWEVER THE JSON DATA IS CONVERTED TO A SINGLE DATAFRAME, MAY REQUIRE LARGE MEMORY.\n",
    "\n",
    "    ETA 5hrs\n",
    "    \"\"\"\n",
    "\n",
    "    def parse(js):\n",
    "        processed_line = dict()\n",
    "        for col in set(col_lst).intersection(set(js.keys())):\n",
    "            # Only keywords in the list above are considered\n",
    "            # If more keywords are required, according read_in code should be added\n",
    "            if col == 'id':\n",
    "                processed_line['id'] = js['id']\n",
    "            elif col == 'authors':\n",
    "                authors = js['authors']\n",
    "                processed_line['authors_id'] = ';'.join([str(author.get('id', None))\n",
    "                                                         for author in authors if author.get('id', None)])\n",
    "                processed_line['authors_name'] = ';'.join([author.get('name', None)\n",
    "                                                           for author in authors if author.get('name', None)])\n",
    "                processed_line['authors_org'] = ';'.join([str(author.get('org', None))\n",
    "                                                          for author in authors if author.get('org', None)])\n",
    "            elif col == 'venue':\n",
    "                venue = js['venue']\n",
    "                processed_line['venue_id'] = venue.get('id', None)\n",
    "                processed_line['venue_name'] = venue.get('raw', None)\n",
    "            elif col == 'year':\n",
    "                processed_line['year'] = js['year']\n",
    "            elif col == 'keywords':\n",
    "                processed_line['keywords'] = ';'.join(js['keywords'])\n",
    "            elif col == 'references':\n",
    "                processed_line['references'] = ';'.join([str(r) for r in js['references']])\n",
    "            elif col == 'n_citation':\n",
    "                processed_line['n_cites'] = js['n_citation']\n",
    "            elif col == 'doc_type':\n",
    "                processed_line['doc_type'] = js['doc_type']\n",
    "        return processed_line\n",
    "\n",
    "    parsed_df = pd.DataFrame()\n",
    "    with open(file, encoding='utf-8') as f:\n",
    "        i = 0\n",
    "        while i < 10000:\n",
    "            line = f.readline()\n",
    "            if not line:\n",
    "                break\n",
    "            line = line.lstrip('[')\n",
    "            line = line.lstrip(',')\n",
    "            line = line.rstrip(']')\n",
    "            line = line.rstrip('\\n')\n",
    "            if line:\n",
    "                js = json.loads(line)\n",
    "                parsed_df = parsed_df.append(parse(js), ignore_index=True)\n",
    "            i += 1\n",
    "    # Change data type\n",
    "    parsed_df['id'] = parsed_df['id'].astype('int64')\n",
    "    parsed_df['year'] = parsed_df['year'].astype('int')\n",
    "    parsed_df['n_cites'] = parsed_df['n_cites'].astype('int')\n",
    "\n",
    "    return parsed_df"
   ],
   "metadata": {
    "collapsed": false,
    "pycharm": {
     "name": "#%%\n",
     "is_executing": false
    }
   }
  },
  {
   "cell_type": "code",
   "execution_count": 3,
   "outputs": [
    {
     "traceback": [
      "\u001b[1;31m---------------------------------------------------------------------------\u001b[0m",
      "\u001b[1;31mFileNotFoundError\u001b[0m                         Traceback (most recent call last)",
      "\u001b[1;32m<ipython-input-3-c54a2b104a10>\u001b[0m in \u001b[0;36m<module>\u001b[1;34m\u001b[0m\n\u001b[0;32m      1\u001b[0m \u001b[1;32mimport\u001b[0m \u001b[0mtime\u001b[0m\u001b[1;33m\u001b[0m\u001b[1;33m\u001b[0m\u001b[0m\n\u001b[0;32m      2\u001b[0m \u001b[0mstart\u001b[0m \u001b[1;33m=\u001b[0m \u001b[0mtime\u001b[0m\u001b[1;33m.\u001b[0m\u001b[0mtime\u001b[0m\u001b[1;33m(\u001b[0m\u001b[1;33m)\u001b[0m\u001b[1;33m\u001b[0m\u001b[1;33m\u001b[0m\u001b[0m\n\u001b[1;32m----> 3\u001b[1;33m \u001b[0mdblp_paper_df\u001b[0m \u001b[1;33m=\u001b[0m \u001b[0mparsejson2df\u001b[0m\u001b[1;33m(\u001b[0m\u001b[0mos\u001b[0m\u001b[1;33m.\u001b[0m\u001b[0mpath\u001b[0m\u001b[1;33m.\u001b[0m\u001b[0mjoin\u001b[0m\u001b[1;33m(\u001b[0m\u001b[0mDATA_PATH\u001b[0m\u001b[1;33m,\u001b[0m \u001b[1;34m'dblp.v12.json'\u001b[0m\u001b[1;33m)\u001b[0m\u001b[1;33m,\u001b[0m \u001b[0mcol_lst\u001b[0m\u001b[1;33m=\u001b[0m\u001b[0mJSON_KEYWORDS\u001b[0m\u001b[1;33m)\u001b[0m\u001b[1;33m\u001b[0m\u001b[1;33m\u001b[0m\u001b[0m\n\u001b[0m\u001b[0;32m      4\u001b[0m \u001b[0mprint\u001b[0m\u001b[1;33m(\u001b[0m\u001b[0mtime\u001b[0m\u001b[1;33m.\u001b[0m\u001b[0mtime\u001b[0m\u001b[1;33m(\u001b[0m\u001b[1;33m)\u001b[0m \u001b[1;33m-\u001b[0m \u001b[0mstart\u001b[0m\u001b[1;33m)\u001b[0m\u001b[1;33m\u001b[0m\u001b[1;33m\u001b[0m\u001b[0m\n\u001b[0;32m      5\u001b[0m \u001b[1;33m\u001b[0m\u001b[0m\n",
      "\u001b[1;32m<ipython-input-2-7738f29b7061>\u001b[0m in \u001b[0;36mparsejson2df\u001b[1;34m(file, col_lst)\u001b[0m\n\u001b[0;32m     41\u001b[0m \u001b[1;33m\u001b[0m\u001b[0m\n\u001b[0;32m     42\u001b[0m     \u001b[0mparsed_df\u001b[0m \u001b[1;33m=\u001b[0m \u001b[0mpd\u001b[0m\u001b[1;33m.\u001b[0m\u001b[0mDataFrame\u001b[0m\u001b[1;33m(\u001b[0m\u001b[1;33m)\u001b[0m\u001b[1;33m\u001b[0m\u001b[1;33m\u001b[0m\u001b[0m\n\u001b[1;32m---> 43\u001b[1;33m     \u001b[1;32mwith\u001b[0m \u001b[0mopen\u001b[0m\u001b[1;33m(\u001b[0m\u001b[0mfile\u001b[0m\u001b[1;33m,\u001b[0m \u001b[0mencoding\u001b[0m\u001b[1;33m=\u001b[0m\u001b[1;34m'utf-8'\u001b[0m\u001b[1;33m)\u001b[0m \u001b[1;32mas\u001b[0m \u001b[0mf\u001b[0m\u001b[1;33m:\u001b[0m\u001b[1;33m\u001b[0m\u001b[1;33m\u001b[0m\u001b[0m\n\u001b[0m\u001b[0;32m     44\u001b[0m         \u001b[0mi\u001b[0m \u001b[1;33m=\u001b[0m \u001b[1;36m0\u001b[0m\u001b[1;33m\u001b[0m\u001b[1;33m\u001b[0m\u001b[0m\n\u001b[0;32m     45\u001b[0m         \u001b[1;32mwhile\u001b[0m \u001b[0mi\u001b[0m \u001b[1;33m<\u001b[0m \u001b[1;36m10000\u001b[0m\u001b[1;33m:\u001b[0m\u001b[1;33m\u001b[0m\u001b[1;33m\u001b[0m\u001b[0m\n",
      "\u001b[1;31mFileNotFoundError\u001b[0m: [Errno 2] No such file or directory: 'D:\\\\Dataset\\\\ThinkTank\\\\dblp.v12.json'"
     ],
     "ename": "FileNotFoundError",
     "evalue": "[Errno 2] No such file or directory: 'D:\\\\Dataset\\\\ThinkTank\\\\dblp.v12.json'",
     "output_type": "error"
    }
   ],
   "source": [
    "import time\n",
    "start = time.time()\n",
    "dblp_paper_df = parsejson2df(os.path.join(DATA_PATH, 'dblp.v12.json'), col_lst=JSON_KEYWORDS)\n",
    "print(time.time() - start)"
   ],
   "metadata": {
    "collapsed": false,
    "pycharm": {
     "name": "#%%\n",
     "is_executing": false
    }
   }
  },
  {
   "cell_type": "code",
   "execution_count": null,
   "outputs": [],
   "source": [
    "import os"
   ],
   "metadata": {
    "collapsed": false,
    "pycharm": {
     "name": "#%%\n",
     "is_executing": false
    }
   }
  },
  {
   "cell_type": "code",
   "execution_count": null,
   "outputs": [],
   "source": [
    "dblp_paper_df.to_csv(os.path.join(DATA_PATH, 'dblp_paper.csv'), index=False)"
   ],
   "metadata": {
    "collapsed": false,
    "pycharm": {
     "name": "#%%\n",
     "is_executing": false
    }
   }
  },
  {
   "cell_type": "code",
   "execution_count": null,
   "outputs": [],
   "source": [
    "with open((os.path.join(DATA_PATH, 'dblp.v12.json')), encoding='utf-8') as f:\n",
    "    i = 0\n",
    "    while i < 5:\n",
    "        line = f.readline()\n",
    "        i += 1"
   ],
   "metadata": {
    "collapsed": false,
    "pycharm": {
     "name": "#%%\n",
     "is_executing": false
    }
   }
  },
  {
   "cell_type": "code",
   "execution_count": null,
   "outputs": [],
   "source": [
    "js = json.loads(line)"
   ],
   "metadata": {
    "collapsed": false,
    "pycharm": {
     "name": "#%%\n",
     "is_executing": false
    }
   }
  },
  {
   "cell_type": "code",
   "execution_count": null,
   "outputs": [],
   "source": [
    "from sklearn.decomposition import PCA\n"
   ],
   "metadata": {
    "collapsed": false,
    "pycharm": {
     "name": "#%%\n",
     "is_executing": false
    }
   }
  }
 ],
 "metadata": {
  "kernelspec": {
   "display_name": "Python 3",
   "language": "python",
   "name": "python3"
  },
  "language_info": {
   "codemirror_mode": {
    "name": "ipython",
    "version": 2
   },
   "file_extension": ".py",
   "mimetype": "text/x-python",
   "name": "python",
   "nbconvert_exporter": "python",
   "pygments_lexer": "ipython2",
   "version": "2.7.6"
  }
 },
 "nbformat": 4,
 "nbformat_minor": 0
}