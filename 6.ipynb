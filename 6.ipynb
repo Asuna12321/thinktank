{
 "cells": [
  {
   "cell_type": "code",
   "execution_count": 1,
   "outputs": [],
   "source": [
    "from process import *\n",
    "import re\n",
    "from collections import Counter\n",
    "from utils import *"
   ],
   "metadata": {
    "collapsed": false,
    "pycharm": {
     "name": "#%%\n"
    }
   }
  },
  {
   "cell_type": "code",
   "execution_count": 2,
   "outputs": [],
   "source": [
    "paper_df = read_csv(DATA_PATH, 'processed_dblp_paper.csv')"
   ],
   "metadata": {
    "collapsed": false,
    "pycharm": {
     "name": "#%%\n"
    }
   }
  },
  {
   "cell_type": "code",
   "execution_count": 3,
   "outputs": [],
   "source": [
    "df = pd.DataFrame()\n",
    "df['aff'] = paper_df['affiliation'].astype('str').apply(lambda s: re.sub('#.*?#', '', s))"
   ],
   "metadata": {
    "collapsed": false,
    "pycharm": {
     "name": "#%%\n"
    }
   }
  },
  {
   "cell_type": "code",
   "execution_count": 4,
   "outputs": [
    {
     "name": "stderr",
     "output_type": "stream",
     "text": [
      "100%|██████████| 1897/1897 [00:08<00:00, 223.25it/s]\n"
     ]
    }
   ],
   "source": [
    "df['aff'] = df['aff'].apply(lambda x: x.lower())\n",
    "df['aff'] = multiprocess_str(split_data(df, size=2000), 'aff')"
   ],
   "metadata": {
    "collapsed": false,
    "pycharm": {
     "name": "#%%\n"
    }
   }
  },
  {
   "cell_type": "code",
   "execution_count": 7,
   "outputs": [],
   "source": [
    "def process(line):\n",
    "    strings = line.split(',')\n",
    "    def extract(string):\n",
    "        pat = re.compile('[a-z]+')\n",
    "        string_ = ' '.join(re.findall(pat, string))\n",
    "        return string_\n",
    "    return ','.join([extract(string) for string in strings if extract(string)])\n",
    "        \n",
    "df['processed_aff'] = df['aff'].apply(process)"
   ],
   "metadata": {
    "collapsed": false,
    "pycharm": {
     "name": "#%%\n"
    }
   }
  },
  {
   "cell_type": "code",
   "execution_count": 8,
   "outputs": [
    {
     "data": {
      "text/plain": "array(['university', nan, 'universite', ..., 'universitez',\n       'universitykiev', 'universitaten'], dtype=object)"
     },
     "execution_count": 8,
     "metadata": {},
     "output_type": "execute_result"
    }
   ],
   "source": [
    "pd.unique(df['processed_aff'].apply(lambda x: re.findall('univ[a-z]+', x)[0] if re.findall('univ[a-z]+', x) else np.nan))"
   ],
   "metadata": {
    "collapsed": false,
    "pycharm": {
     "name": "#%%\n"
    }
   }
  },
  {
   "cell_type": "code",
   "execution_count": 9,
   "outputs": [],
   "source": [
    "reg_ = pd.unique(df['processed_aff'].apply(lambda x: x.split(',')[-1]))\n",
    "reg__ = np.array([x for x in reg_ if len(x.split())==1])"
   ],
   "metadata": {
    "collapsed": false,
    "pycharm": {
     "name": "#%%\n"
    }
   }
  },
  {
   "cell_type": "code",
   "execution_count": 10,
   "outputs": [],
   "source": [
    "def split_univ(aff):\n",
    "    for x in aff.split(','):\n",
    "        for x_ in x.split():\n",
    "            if x_.startswith('univ'):\n",
    "                return x\n",
    "\n",
    "df['univ1'] = df['processed_aff'].apply(split_univ)"
   ],
   "metadata": {
    "collapsed": false,
    "pycharm": {
     "name": "#%%\n"
    }
   }
  },
  {
   "cell_type": "code",
   "execution_count": 11,
   "outputs": [
    {
     "data": {
      "text/plain": "1107096"
     },
     "execution_count": 11,
     "metadata": {},
     "output_type": "execute_result"
    }
   ],
   "source": [
    "df['univ1'].isna().sum()"
   ],
   "metadata": {
    "collapsed": false,
    "pycharm": {
     "name": "#%%\n"
    }
   }
  },
  {
   "cell_type": "code",
   "execution_count": 12,
   "outputs": [],
   "source": [
    "univs = pd.unique(df['univ1'])"
   ],
   "metadata": {
    "collapsed": false,
    "pycharm": {
     "name": "#%%\n"
    }
   }
  },
  {
   "cell_type": "code",
   "execution_count": 17,
   "outputs": [],
   "source": [
    "univ_df = pd.DataFrame()\n",
    "univ_df['university'] = univs"
   ],
   "metadata": {
    "collapsed": false,
    "pycharm": {
     "name": "#%%\n",
     "is_executing": false
    }
   }
  },
  {
   "cell_type": "code",
   "execution_count": 5,
   "outputs": [],
   "source": [
    "chrs = set()\n",
    "chrs = chrs.union(*df['aff'].apply(set))"
   ],
   "metadata": {
    "collapsed": false,
    "pycharm": {
     "name": "#%%\n"
    }
   }
  },
  {
   "cell_type": "code",
   "execution_count": 45,
   "outputs": [
    {
     "name": "stdout",
     "output_type": "stream",
     "text": [
      "慶\n",
      "交\n",
      "\n",
      "名\n",
      "菱\n",
      "’\n",
      "́\n",
      "構\n",
      "и\n",
      "α\n",
      "ʻ\n",
      "金\n",
      "^\n",
      "\n",
      "̈\n",
      "輛\n",
      "ǹ\n",
      "ы\n"
     ]
    }
   ],
   "source": [
    "for i in list(chrs)[680:]:\n",
    "    print(i)"
   ],
   "metadata": {
    "collapsed": false,
    "pycharm": {
     "name": "#%%\n"
    }
   }
  },
  {
   "cell_type": "code",
   "execution_count": null,
   "outputs": [],
   "source": [
    "word_count = Counter(' '.join(df['processed_aff'].values).replace(\",\",' ').split(' '))"
   ],
   "metadata": {
    "collapsed": false,
    "pycharm": {
     "name": "#%%\n"
    }
   }
  },
  {
   "cell_type": "code",
   "execution_count": 13,
   "outputs": [],
   "source": [
    "univ_count = df['univ1'].value_counts()"
   ],
   "metadata": {
    "collapsed": false,
    "pycharm": {
     "name": "#%%\n"
    }
   }
  },
  {
   "cell_type": "code",
   "execution_count": 15,
   "outputs": [
    {
     "name": "stderr",
     "output_type": "stream",
     "text": [
      "C:\\ProgramData\\Anaconda3\\lib\\site-packages\\ipykernel_launcher.py:1: FutureWarning: The signature of `Series.to_csv` was aligned to that of `DataFrame.to_csv`, and argument 'header' will change its default value from False to True: please pass an explicit value to suppress this warning.\n",
      "  \"\"\"Entry point for launching an IPython kernel.\n"
     ]
    }
   ],
   "source": [
    "univ_count.to_csv('univ_count.csv')"
   ],
   "metadata": {
    "collapsed": false,
    "pycharm": {
     "name": "#%%\n"
    }
   }
  },
  {
   "cell_type": "code",
   "execution_count": 16,
   "outputs": [
    {
     "data": {
      "text/plain": "1511243"
     },
     "execution_count": 16,
     "metadata": {},
     "output_type": "execute_result"
    }
   ],
   "source": [
    "univ_count[:700].sum()"
   ],
   "metadata": {
    "collapsed": false,
    "pycharm": {
     "name": "#%%\n"
    }
   }
  },
  {
   "cell_type": "code",
   "execution_count": 21,
   "outputs": [],
   "source": [
    "word_count_df = pd.DataFrame()\n",
    "word_count_df['word'] = word_count.keys()\n",
    "word_count_df['count'] = word_count.values()"
   ],
   "metadata": {
    "collapsed": false,
    "pycharm": {
     "name": "#%%\n"
    }
   }
  },
  {
   "cell_type": "code",
   "execution_count": 23,
   "outputs": [],
   "source": [
    "word_count_df = word_count_df.sort_values('count', ascending=False).reset_index(drop=True)"
   ],
   "metadata": {
    "collapsed": false,
    "pycharm": {
     "name": "#%%\n"
    }
   }
  },
  {
   "cell_type": "code",
   "execution_count": null,
   "outputs": [],
   "source": [],
   "metadata": {
    "collapsed": false,
    "pycharm": {
     "name": "#%%\n"
    }
   }
  },
  {
   "cell_type": "code",
   "execution_count": 22,
   "outputs": [
    {
     "data": {
      "text/plain": "                     word    count\n6                      of  3229717\n1              university  2469869\n24                    and   893987\n9              department   683937\n25            engineering   566176\n23                science   525624\n21             technology   473537\n22               computer   451251\n101                   usa   435717\n127                 china   400558\n71              institute   377952\n455                  dept   321795\n32                 school   321695\n68                     de   278270\n241           information   228325\n608                   eng   208557\n4                research   190571\n400                   for   186478\n312            electrical   179835\n192                   the   177880\n128              national   161490\n450                comput   157423\n61                college   141480\n182               germany   140390\n172                center   137246\n451                   sci   135526\n119            laboratory   134428\n213                 state   132137\n84               sciences   131110\n37                  japan   129637\n...                   ...      ...\n120411        napieracukf        1\n120412           edalbera        1\n120413             pahari        1\n120414           albinson        1\n120451    mathssotonacukf        1\n120450            gajones        1\n120449             lehrst        1\n120447               frgo        1\n120443           tesource        1\n120442   yangzhouyangzhou        1\n120441    datenstrukturen        1\n20609             tinylox        1\n120439           mecaniqu        1\n120438              brind        1\n120437              myrna        1\n20610             macasek        1\n120434         nguyentrai        1\n120433   clinicvillarroel        1\n120432           hospitai        1\n120431       dimmunologia        1\n120428           kongjing        1\n120423             leuvei        1\n120422              akiyo        1\n120421         yamanouchi        1\n120420          isolation        1\n120418             marcam        1\n120417  babbagecseeusfedu        1\n120416             polack        1\n120415          imhoffstr        1\n209423           comtrade        1\n\n[209424 rows x 2 columns]",
      "text/html": "<div>\n<style scoped>\n    .dataframe tbody tr th:only-of-type {\n        vertical-align: middle;\n    }\n\n    .dataframe tbody tr th {\n        vertical-align: top;\n    }\n\n    .dataframe thead th {\n        text-align: right;\n    }\n</style>\n<table border=\"1\" class=\"dataframe\">\n  <thead>\n    <tr style=\"text-align: right;\">\n      <th></th>\n      <th>word</th>\n      <th>count</th>\n    </tr>\n  </thead>\n  <tbody>\n    <tr>\n      <th>6</th>\n      <td>of</td>\n      <td>3229717</td>\n    </tr>\n    <tr>\n      <th>1</th>\n      <td>university</td>\n      <td>2469869</td>\n    </tr>\n    <tr>\n      <th>24</th>\n      <td>and</td>\n      <td>893987</td>\n    </tr>\n    <tr>\n      <th>9</th>\n      <td>department</td>\n      <td>683937</td>\n    </tr>\n    <tr>\n      <th>25</th>\n      <td>engineering</td>\n      <td>566176</td>\n    </tr>\n    <tr>\n      <th>23</th>\n      <td>science</td>\n      <td>525624</td>\n    </tr>\n    <tr>\n      <th>21</th>\n      <td>technology</td>\n      <td>473537</td>\n    </tr>\n    <tr>\n      <th>22</th>\n      <td>computer</td>\n      <td>451251</td>\n    </tr>\n    <tr>\n      <th>101</th>\n      <td>usa</td>\n      <td>435717</td>\n    </tr>\n    <tr>\n      <th>127</th>\n      <td>china</td>\n      <td>400558</td>\n    </tr>\n    <tr>\n      <th>71</th>\n      <td>institute</td>\n      <td>377952</td>\n    </tr>\n    <tr>\n      <th>455</th>\n      <td>dept</td>\n      <td>321795</td>\n    </tr>\n    <tr>\n      <th>32</th>\n      <td>school</td>\n      <td>321695</td>\n    </tr>\n    <tr>\n      <th>68</th>\n      <td>de</td>\n      <td>278270</td>\n    </tr>\n    <tr>\n      <th>241</th>\n      <td>information</td>\n      <td>228325</td>\n    </tr>\n    <tr>\n      <th>608</th>\n      <td>eng</td>\n      <td>208557</td>\n    </tr>\n    <tr>\n      <th>4</th>\n      <td>research</td>\n      <td>190571</td>\n    </tr>\n    <tr>\n      <th>400</th>\n      <td>for</td>\n      <td>186478</td>\n    </tr>\n    <tr>\n      <th>312</th>\n      <td>electrical</td>\n      <td>179835</td>\n    </tr>\n    <tr>\n      <th>192</th>\n      <td>the</td>\n      <td>177880</td>\n    </tr>\n    <tr>\n      <th>128</th>\n      <td>national</td>\n      <td>161490</td>\n    </tr>\n    <tr>\n      <th>450</th>\n      <td>comput</td>\n      <td>157423</td>\n    </tr>\n    <tr>\n      <th>61</th>\n      <td>college</td>\n      <td>141480</td>\n    </tr>\n    <tr>\n      <th>182</th>\n      <td>germany</td>\n      <td>140390</td>\n    </tr>\n    <tr>\n      <th>172</th>\n      <td>center</td>\n      <td>137246</td>\n    </tr>\n    <tr>\n      <th>451</th>\n      <td>sci</td>\n      <td>135526</td>\n    </tr>\n    <tr>\n      <th>119</th>\n      <td>laboratory</td>\n      <td>134428</td>\n    </tr>\n    <tr>\n      <th>213</th>\n      <td>state</td>\n      <td>132137</td>\n    </tr>\n    <tr>\n      <th>84</th>\n      <td>sciences</td>\n      <td>131110</td>\n    </tr>\n    <tr>\n      <th>37</th>\n      <td>japan</td>\n      <td>129637</td>\n    </tr>\n    <tr>\n      <th>...</th>\n      <td>...</td>\n      <td>...</td>\n    </tr>\n    <tr>\n      <th>120411</th>\n      <td>napieracukf</td>\n      <td>1</td>\n    </tr>\n    <tr>\n      <th>120412</th>\n      <td>edalbera</td>\n      <td>1</td>\n    </tr>\n    <tr>\n      <th>120413</th>\n      <td>pahari</td>\n      <td>1</td>\n    </tr>\n    <tr>\n      <th>120414</th>\n      <td>albinson</td>\n      <td>1</td>\n    </tr>\n    <tr>\n      <th>120451</th>\n      <td>mathssotonacukf</td>\n      <td>1</td>\n    </tr>\n    <tr>\n      <th>120450</th>\n      <td>gajones</td>\n      <td>1</td>\n    </tr>\n    <tr>\n      <th>120449</th>\n      <td>lehrst</td>\n      <td>1</td>\n    </tr>\n    <tr>\n      <th>120447</th>\n      <td>frgo</td>\n      <td>1</td>\n    </tr>\n    <tr>\n      <th>120443</th>\n      <td>tesource</td>\n      <td>1</td>\n    </tr>\n    <tr>\n      <th>120442</th>\n      <td>yangzhouyangzhou</td>\n      <td>1</td>\n    </tr>\n    <tr>\n      <th>120441</th>\n      <td>datenstrukturen</td>\n      <td>1</td>\n    </tr>\n    <tr>\n      <th>20609</th>\n      <td>tinylox</td>\n      <td>1</td>\n    </tr>\n    <tr>\n      <th>120439</th>\n      <td>mecaniqu</td>\n      <td>1</td>\n    </tr>\n    <tr>\n      <th>120438</th>\n      <td>brind</td>\n      <td>1</td>\n    </tr>\n    <tr>\n      <th>120437</th>\n      <td>myrna</td>\n      <td>1</td>\n    </tr>\n    <tr>\n      <th>20610</th>\n      <td>macasek</td>\n      <td>1</td>\n    </tr>\n    <tr>\n      <th>120434</th>\n      <td>nguyentrai</td>\n      <td>1</td>\n    </tr>\n    <tr>\n      <th>120433</th>\n      <td>clinicvillarroel</td>\n      <td>1</td>\n    </tr>\n    <tr>\n      <th>120432</th>\n      <td>hospitai</td>\n      <td>1</td>\n    </tr>\n    <tr>\n      <th>120431</th>\n      <td>dimmunologia</td>\n      <td>1</td>\n    </tr>\n    <tr>\n      <th>120428</th>\n      <td>kongjing</td>\n      <td>1</td>\n    </tr>\n    <tr>\n      <th>120423</th>\n      <td>leuvei</td>\n      <td>1</td>\n    </tr>\n    <tr>\n      <th>120422</th>\n      <td>akiyo</td>\n      <td>1</td>\n    </tr>\n    <tr>\n      <th>120421</th>\n      <td>yamanouchi</td>\n      <td>1</td>\n    </tr>\n    <tr>\n      <th>120420</th>\n      <td>isolation</td>\n      <td>1</td>\n    </tr>\n    <tr>\n      <th>120418</th>\n      <td>marcam</td>\n      <td>1</td>\n    </tr>\n    <tr>\n      <th>120417</th>\n      <td>babbagecseeusfedu</td>\n      <td>1</td>\n    </tr>\n    <tr>\n      <th>120416</th>\n      <td>polack</td>\n      <td>1</td>\n    </tr>\n    <tr>\n      <th>120415</th>\n      <td>imhoffstr</td>\n      <td>1</td>\n    </tr>\n    <tr>\n      <th>209423</th>\n      <td>comtrade</td>\n      <td>1</td>\n    </tr>\n  </tbody>\n</table>\n<p>209424 rows × 2 columns</p>\n</div>"
     },
     "execution_count": 22,
     "metadata": {},
     "output_type": "execute_result"
    }
   ],
   "source": [
    "paper"
   ],
   "metadata": {
    "collapsed": false,
    "pycharm": {
     "name": "#%%\n"
    }
   }
  },
  {
   "cell_type": "code",
   "execution_count": null,
   "outputs": [],
   "source": [],
   "metadata": {
    "collapsed": false,
    "pycharm": {
     "name": "#%%\n"
    }
   }
  }
 ],
 "metadata": {
  "language_info": {
   "codemirror_mode": {
    "name": "ipython",
    "version": 2
   },
   "file_extension": ".py",
   "mimetype": "text/x-python",
   "name": "python",
   "nbconvert_exporter": "python",
   "pygments_lexer": "ipython2",
   "version": "2.7.6"
  },
  "kernelspec": {
   "name": "python3",
   "language": "python",
   "display_name": "Python 3"
  }
 },
 "nbformat": 4,
 "nbformat_minor": 0
}