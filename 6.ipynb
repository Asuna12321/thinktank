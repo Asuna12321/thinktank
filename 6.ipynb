{
 "cells": [
  {
   "cell_type": "code",
   "execution_count": 2,
   "outputs": [],
   "source": [
    "import pandas as pd\n",
    "import numpy as np\n",
    "from process import *\n",
    "from utils import read_csv\n",
    "import re"
   ],
   "metadata": {
    "collapsed": false,
    "pycharm": {
     "name": "#%%\n",
     "is_executing": false
    }
   }
  },
  {
   "cell_type": "code",
   "execution_count": 3,
   "outputs": [],
   "source": [
    "data_path = 'C:\\\\Users\\\\Jin tian Zhou\\\\PycharmProjects\\\\ThinkTank'\n",
    "paper_df = read_csv(data_path,'paper.csv')"
   ],
   "metadata": {
    "collapsed": false,
    "pycharm": {
     "name": "#%%\n",
     "is_executing": false
    }
   }
  },
  {
   "cell_type": "code",
   "execution_count": 4,
   "outputs": [],
   "source": [
    "df = pd.DataFrame()\n",
    "df['aff'] = paper_df['affiliation'].astype('str').apply(lambda s: re.sub('#.*?#', '', s))"
   ],
   "metadata": {
    "collapsed": false,
    "pycharm": {
     "name": "#%%\n",
     "is_executing": false
    }
   }
  },
  {
   "cell_type": "code",
   "execution_count": 5,
   "outputs": [],
   "source": [
    "df['aff'] = df['aff'].apply(lambda x: x.lower()) \n",
    "df['aff'] = df['aff'].apply(lambda x: re.sub('univ\\.','university',x))"
   ],
   "metadata": {
    "collapsed": false,
    "pycharm": {
     "name": "#%%\n",
     "is_executing": false
    }
   }
  },
  {
   "cell_type": "code",
   "execution_count": 6,
   "outputs": [],
   "source": [
    "def replace_chr(df, col):\n",
    "    df[col] = df[col].str.replace(\"\\xe2\\x80\\x99\", \"'\") #84 apostrophe\n",
    "    df[col] = df[col].str.replace(\"\\xc2\\xa8\\xc2\\xa2\", \"a\") #32 Spanish a\n",
    "    df[col] = df[col].str.replace(\"\\xc2\\xa8\", \"\") # 445 next character is an umlatts\n",
    "    df[col] = df[col].str.replace(\"\\xc3\\xa8\", \"e\") # 19 French e\n",
    "    df[col] = df[col].str.replace(\"\\xc3\\xad\", \"i\") # 73 Spanish i\n",
    "    df[col] = df[col].str.replace(\"\\xc3\\xa4\", \"a\") # 66 German a\n",
    "    df[col] = df[col].str.replace(\"\\xc3\\xaa\", \"e\") # 2 Portugese E\n",
    "    df[col] = df[col].str.replace(\"\\xc3\\xa3\", \"a\") # 17 Portugese A\n",
    "    df[col] = df[col].str.replace(\"\\xc3\\xb3\", \"o\") # 55 Portugese O\n",
    "    df[col] = df[col].str.replace(\"\\xc3\\xb6\", \"o\") # 127 Swedish O\n",
    "    df[col] = df[col].str.replace(\"\\xc3\\x96\", \"o\") # 13 Swedish o\n",
    "    df[col] = df[col].str.replace(\"\\xc3\\xaf\", \"i\") # 3 Catalonian I\n",
    "    df[col] = df[col].str.replace(\"\\xc3\\xb8\", \"o\") # 20 Icelandic O\n",
    "    df[col] = df[col].str.replace(\"\\xc3\\xba\", \"u\") # 18 Catalonian u\n",
    "    df[col] = df[col].str.replace(\"\\xc3\\x85\", \"a\") # 2 Norwegian A\n",
    "    df[col] = df[col].str.replace(\"\\xc3\\x89\", \"e\") # 6 Swiss e\n",
    "    df[col] = df[col].str.replace(\"\\xc3\\xa9\", \"e\") # 234 French e\n",
    "    df[col] = df[col].str.replace(\"\\xc3\\x9c\", \"u\") # 5 Turkish U\n",
    "    df[col] = df[col].str.replace(\"\\xc3\\xbc\", \"u\") # 109 German u\n",
    "    df[col] = df[col].str.replace(\"\\xc3\\xb1\", \"n\") # 22 Spanish N\n",
    "    df[col] = df[col].str.replace(\"\\xc3\\xb4\", \"o\") # 3 French O\n",
    "    df[col] = df[col].str.replace(\"\\xc3\\xa1\", \"a\") # 105 Hungarian a\n",
    "    df[col] = df[col].str.replace(\"\\xc3\\xa7\", \"c\") # 28 Portugese c\n",
    "    df[col] = df[col].str.replace(\"\\xc3\\x9f\", \"b\") # 15 German B\n",
    "    df[col] = df[col].str.replace(\"\\xc3\\xb5\", \"o\") # 16 Portugese o\n",
    "    df[col] = df[col].str.replace(\"\\xc3\\xa5\", \"a\") # 4 Some? a\n",
    "    df[col] = df[col].str.replace(\"\\xc3\\xa0\", \"a\") # 3 Some? a\n",
    "    df[col] = df[col].str.replace(\"\\xc3\\xab\", \"e\") # 4 Some? e\n",
    "    df[col] = df[col].str.replace(\"\\xc3\\xb2\", \"o\") # 1 Some? o\n",
    "    df[col] = df[col].str.replace(\"\\xc5\\x81\", \"l\") # 4 Slavic L\n",
    "    df[col] = df[col].str.replace(\"\\xc5\\x82\", \"l\") # 35 Slavic L\n",
    "    df[col] = df[col].str.replace(\" \\xc2\\xb4 \", \"\")\n",
    "    df[col] = df[col].str.replace(\" \\xc2\\xb4\", \"\")\n",
    "    df[col] = df[col].str.replace(\"\\xc2\\xb4\", \"\")\n",
    "    df[col] = df[col].str.replace(\"\\xc2\\xb8\", \"\")\n",
    "    df[col] = df[col].str.replace(\"\\xc2\\xa6\", \"e\")\n",
    "    df[col] = df[col].str.replace(\"\\xc2\\xaa\", \"i\")\n",
    "    df[col] = df[col].str.replace(\"\\xc4\\xb1\", \"i\")\n",
    "    df[col] = df[col].str.replace(\"\\xc3\\xb0\", \"d\")\n",
    "    df[col] = df[col].str.replace(\"\\xef\\xbf\\xbd\", \"e\")\n",
    "    df[col] = df[col].str.replace(\"\\xc3\\x9a\", \"u\")\n",
    "    df[col] = df[col].str.replace(\"é\", \"e\")\n",
    "    df[col] = df[col].str.replace(\"ö\", \"o\")\n",
    "    df[col] = df[col].str.replace(\"ä\", \"a\")\n",
    "    df[col] = df[col].str.replace(\"á\", \"a\")\n",
    "    df[col] = df[col].str.replace(\"í\", \"i\")\n",
    "    df[col] = df[col].str.replace(\"ı\", \"i\")\n",
    "    df[col] = df[col].str.replace(\"ä\", \"a\")\n",
    "    df[col] = df[col].str.replace('ĵ', 'j')\n",
    "    df[col] = df[col].str.replace('ß', 'b')\n",
    "    df[col] = df[col].str.replace('ó', 'o')\n",
    "    df[col] = df[col].str.replace('ó', 'o')\n",
    "    df[col] = df[col].str.replace('ł', 'l')\n",
    "    df[col] = df[col].str.replace('č', 'c')\n",
    "    #############\n",
    "    df[col] = df[col].str.replace('à', \"a\")\n",
    "    df[col] = df[col].str.replace('â', \"a\")\n",
    "    df[col] = df[col].str.replace('ã', \"a\")\n",
    "    df[col] = df[col].str.replace('å', \"a\")\n",
    "    df[col] = df[col].str.replace('æ', \"a\")\n",
    "    df[col] = df[col].str.replace('ç', \"c\")\n",
    "    df[col] = df[col].str.replace('è', \"e\")\n",
    "    df[col] = df[col].str.replace('ê', 'e')\n",
    "    df[col] = df[col].str.replace('ë', 'e')\n",
    "    df[col] = df[col].str.replace('ì', 'i')\n",
    "    df[col] = df[col].str.replace('î', 'i')\n",
    "    df[col] = df[col].str.replace('ï', 'i')\n",
    "    df[col] = df[col].str.replace('ñ', 'n')\n",
    "    #########\n",
    "    df[col] = df[col].str.replace('ò', \"o\")\n",
    "    df[col] = df[col].str.replace('ô', \"o\")\n",
    "    df[col] = df[col].str.replace('õ', \"o\")\n",
    "    df[col] = df[col].str.replace('ø', \"o\")\n",
    "    df[col] = df[col].str.replace('ú', \"u\")\n",
    "    df[col] = df[col].str.replace('û', \"u\")\n",
    "    df[col] = df[col].str.replace('ü', \"u\")\n",
    "    df[col] = df[col].str.replace('ý', 'y')\n",
    "    df[col] = df[col].str.replace('ā', 'a')\n",
    "    df[col] = df[col].str.replace('ă', 'a')\n",
    "    df[col] = df[col].str.replace('ą', 'a')\n",
    "    df[col] = df[col].str.replace('ć', 'c')\n",
    "    df[col] = df[col].str.replace('ę', 'e')\n",
    "    ########\n",
    "    df[col] = df[col].str.replace('ě', \"e\")\n",
    "    df[col] = df[col].str.replace('ğ', \"g\")\n",
    "    df[col] = df[col].str.replace('ī', \"i\")\n",
    "    df[col] = df[col].str.replace('ń', \"n\")\n",
    "    df[col] = df[col].str.replace('ň', \"n\")\n",
    "    df[col] = df[col].str.replace('ō', \"o\")\n",
    "    df[col] = df[col].str.replace('œ', \"o\")\n",
    "    df[col] = df[col].str.replace('ř', 'r')\n",
    "    df[col] = df[col].str.replace('ś', 's')\n",
    "    df[col] = df[col].str.replace('ş', 's')\n",
    "    df[col] = df[col].str.replace('š', 's')\n",
    "    df[col] = df[col].str.replace('ţ', 't')\n",
    "    df[col] = df[col].str.replace('ū', 'u')\n",
    "    #### # #\n",
    "    df[col] = df[col].str.replace('ŵ', \"w\")\n",
    "    df[col] = df[col].str.replace('ź', \"z\")\n",
    "    df[col] = df[col].str.replace('ż', \"z\")\n",
    "    df[col] = df[col].str.replace('ž', 'z')\n",
    "    df[col] = df[col].str.replace('ǎ', 'a')\n",
    "    df[col] = df[col].str.replace('ǒ', 'o')\n",
    "    df[col] = df[col].str.replace('ǧ', 'g')\n",
    "    df[col] = df[col].str.replace('ș', 's')\n",
    "    df[col] = df[col].str.replace('ȩ', 'e')\n",
    "    \n",
    "    df[col] = df[col].str.replace('˘', '')\n",
    "    df[col] = df[col].str.replace('´', '')\n",
    "    df[col] = df[col].str.replace('‘', '')\n",
    "    df[col] = df[col].str.replace('®', 'o')\n",
    "    df[col] = df[col].str.replace('˝', '')\n",
    "    df[col] = df[col].str.replace('¨', '')\n",
    "    df[col] = df[col].str.replace('¹', '')\n",
    "    df[col] = df[col].str.replace('?', '')\n",
    "    df[col] = df[col].str.replace('�', '')\n",
    "    df[col] = df[col].str.replace('.', '')\n",
    "    df[col] = df[col].str.replace('\\\\', '')\n",
    "    df[col] = df[col].str.replace('\\\"', '')\n",
    "    df[col] = df[col].str.replace('-', ' ')\n",
    "    df[col] = df[col].str.replace('\\'', '')\n",
    "    df[col] = df[col].str.replace(\"~\", \"\") # 24\n",
    "    df[col] = df[col].str.replace(\"`\", \"\") # 24\n",
    "    df[col] = df[col].str.replace(\"|\", \"e\") # 24\n",
    "    df[col] = df[col].str.replace(\"_\", \"\") # 24\n",
    "    df[col] = df[col].str.replace(\"\\\\\", \"\") # ??\n",
    "    df[col] = df[col].str.replace(\" \\(\\w+\\)\", \"\") # ??\n",
    "    df[col] = df[col].str.replace(\" \\([a-z]+ [a-z]+\\)\", \"\") # ??\n",
    "    df[col] = df[col].str.replace(\" \\([a-z]+ [a-z]+ [a-z]+ [a-z]+\\)\", \"\") # ??\n",
    "    df[col] = df[col].str.replace(\"   \", \"\") # 35\n",
    "    df[col] = df[col].str.replace(\"  \", \" \") # 67\n",
    "    df[col] = df[col].str.replace(\"'\", \"\") #1258\n",
    "    df[col] = df[col].str.replace(\"-\", \" \") # 15748\n",
    "    df[col] = df[col].str.replace(\"+\", \" \") # 15748\n",
    "    df[col] = df[col].str.replace(\";\", \" \") # 15748\n",
    "    df[col] = df[col].str.replace(\"\\. \", \" \") # 115748\n",
    "    df[col] = df[col].str.replace(\"\\.\", \" \") # 5281\n",
    "    df[col] = df[col].str.replace(\"\\?\", \" \") # 5281\n",
    "\n",
    "replace_chr(df, 'aff')\n",
    "  "
   ],
   "metadata": {
    "collapsed": false,
    "pycharm": {
     "name": "#%%\n",
     "is_executing": false
    }
   }
  },
  {
   "cell_type": "code",
   "execution_count": 7,
   "outputs": [],
   "source": [
    "def process(line):\n",
    "    strings = line.split(',')\n",
    "    def extract(string):\n",
    "        pat = re.compile('[a-z]+')\n",
    "        string_ = ' '.join(re.findall(pat, string))\n",
    "        return string_\n",
    "    return ','.join([extract(string) for string in strings if extract(string)])\n",
    "        \n",
    "df['processed_aff'] = df['aff'].apply(process)"
   ],
   "metadata": {
    "collapsed": false,
    "pycharm": {
     "name": "#%%\n",
     "is_executing": false
    }
   }
  },
  {
   "cell_type": "code",
   "execution_count": 8,
   "outputs": [],
   "source": [
    "df['aff1'] = df['aff'].apply(lambda x:x.replace(\",\",\" \"))\n",
    "df['aff1'] = df['aff1'].apply(lambda x:x.split(' '))"
   ],
   "metadata": {
    "collapsed": false,
    "pycharm": {
     "name": "#%%\n",
     "is_executing": false
    }
   }
  },
  {
   "cell_type": "code",
   "execution_count": 9,
   "outputs": [],
   "source": [
    "df['univ'] = df['aff1'].apply(lambda x:'')"
   ],
   "metadata": {
    "collapsed": false,
    "pycharm": {
     "name": "#%%\n",
     "is_executing": false
    }
   }
  },
  {
   "cell_type": "code",
   "execution_count": 10,
   "outputs": [
    {
     "data": {
      "text/plain": "35879"
     },
     "metadata": {},
     "output_type": "execute_result",
     "execution_count": 10
    }
   ],
   "source": [
    "df['aff'].apply(lambda x: 'univ' in x).sum()\n"
   ],
   "metadata": {
    "collapsed": false,
    "pycharm": {
     "name": "#%%\n",
     "is_executing": false
    }
   }
  },
  {
   "cell_type": "code",
   "execution_count": 11,
   "outputs": [
    {
     "data": {
      "text/plain": "array(['university', nan, 'universite', 'universidade', 'universiteit',\n       'universitat', 'universidad', 'universiti', 'universit',\n       'universita', 'universitaet', 'universityaparis', 'univerity',\n       'universityof', 'universitaire', 'universitario', 'universitede',\n       'universitatsklinikum', 'universiy', 'universityskopje',\n       'universitatsmedizin', 'universitaria', 'universty',\n       'universityiminds', 'universitet', 'universities', 'univerisity',\n       'univeristy', 'universitybrooklyn', 'universitt',\n       'universityvietnam', 'universityhospital', 'univac',\n       'universitares', 'universitas', 'universtiy', 'universitats',\n       'universites', 'univertity', 'universidadefederal',\n       'universitylouaize', 'universitetet', 'universal',\n       'universityibbt', 'universiry', 'universtat',\n       'universitydepartment', 'universityekaterinburg', 'univeristat',\n       'universtity', 'universityxian', 'universityzofzmelbourne',\n       'universityuniversity', 'univercity', 'universiad',\n       'universitychico', 'universityusa', 'universidadde',\n       'universitaires', 'universltat', 'universityprague', 'universiity',\n       'universitynew', 'univesityzofztechnology', 'universitaat',\n       'universitycomputer', 'universtitat', 'univrsity', 'univerzita',\n       'univesity', 'universitysuny', 'universitywp', 'universityschool',\n       'universi', 'universitycolumbia', 'univiersity', 'univertitat',\n       'universitykingsville', 'universityrussia', 'universityhakodate',\n       'universityfreudenthal', 'universat', 'universitytul',\n       'universitycommerce', 'universitatshochhaus', 'univerisiti',\n       'universitytransnationale', 'universityhigher', 'universitty',\n       'universitatgh', 'universitety', 'universitycollege',\n       'universitiy', 'universityfaculty', 'universitatsklinikums',\n       'universitatberlin', 'universitesi', 'universitytulibbt',\n       'univers', 'universititeknologi'], dtype=object)"
     },
     "metadata": {},
     "output_type": "execute_result",
     "execution_count": 11
    }
   ],
   "source": [
    "pd.unique(df['processed_aff'].apply(lambda x: re.findall('univ[a-z]+', x)[0] if re.findall('univ[a-z]+', x) else np.nan))"
   ],
   "metadata": {
    "collapsed": false,
    "pycharm": {
     "name": "#%%\n",
     "is_executing": false
    }
   }
  },
  {
   "cell_type": "code",
   "execution_count": 12,
   "outputs": [],
   "source": [
    "reg_ = pd.unique(df['processed_aff'].apply(lambda x: x.split(',')[-1]))"
   ],
   "metadata": {
    "collapsed": false,
    "pycharm": {
     "name": "#%%\n",
     "is_executing": false
    }
   }
  },
  {
   "cell_type": "code",
   "execution_count": 13,
   "outputs": [],
   "source": [
    "reg__ = np.array([x for x in reg_ if len(x.split())==1])"
   ],
   "metadata": {
    "collapsed": false,
    "pycharm": {
     "name": "#%%\n",
     "is_executing": false
    }
   }
  },
  {
   "cell_type": "code",
   "execution_count": 14,
   "outputs": [],
   "source": [
    "def split_univ(aff):\n",
    "    for x in aff.split(','):\n",
    "        for x_ in x.split():\n",
    "            if x_.startswith('univ'):\n",
    "                return x\n",
    "\n",
    "df['univ1'] = df['processed_aff'].apply(split_univ)"
   ],
   "metadata": {
    "collapsed": false,
    "pycharm": {
     "name": "#%%\n",
     "is_executing": false
    }
   }
  },
  {
   "cell_type": "code",
   "execution_count": 15,
   "outputs": [
    {
     "data": {
      "text/plain": "14249"
     },
     "metadata": {},
     "output_type": "execute_result",
     "execution_count": 15
    }
   ],
   "source": [
    "df['univ1'].isna().sum()"
   ],
   "metadata": {
    "collapsed": false,
    "pycharm": {
     "name": "#%%\n",
     "is_executing": false
    }
   }
  },
  {
   "cell_type": "code",
   "execution_count": 16,
   "outputs": [],
   "source": [
    "univs = pd.unique(df['univ1'])"
   ],
   "metadata": {
    "collapsed": false,
    "pycharm": {
     "name": "#%%\n",
     "is_executing": false
    }
   }
  },
  {
   "cell_type": "code",
   "execution_count": 17,
   "outputs": [],
   "source": [
    "univ_df = pd.DataFrame()\n",
    "univ_df['university'] = univs"
   ],
   "metadata": {
    "collapsed": false,
    "pycharm": {
     "name": "#%%\n",
     "is_executing": false
    }
   }
  },
  {
   "cell_type": "code",
   "execution_count": 18,
   "outputs": [
    {
     "data": {
      "text/plain": "Counter({1: 3, 2: 4, 3: 2})"
     },
     "metadata": {},
     "output_type": "execute_result",
     "execution_count": 18
    }
   ],
   "source": [
    "from collections import Counter\n",
    "Counter([1, 2, 3, 2, 1, 2, 3, 2, 1])"
   ],
   "metadata": {
    "collapsed": false,
    "pycharm": {
     "name": "#%%\n",
     "is_executing": false
    }
   }
  },
  {
   "cell_type": "code",
   "execution_count": 24,
   "outputs": [],
   "source": [
    "countlist = ''\n",
    "for aff in df['processed_aff']:\n",
    "    countlist = countlist + ' ' + aff "
   ],
   "metadata": {
    "collapsed": false,
    "pycharm": {
     "name": "#%%\n",
     "is_executing": false
    }
   }
  },
  {
   "cell_type": "code",
   "execution_count": 25,
   "outputs": [
    {
     "data": {
      "text/plain": "[('of', 33588),\n ('university', 31635),\n ('and', 8385),\n ('technology', 6365),\n ('science', 6309),\n ('computer', 5182),\n ('department', 5126),\n ('institute', 4895),\n ('engineering', 3496),\n ('de', 3496),\n ('information', 2601),\n ('school', 2554),\n ('china', 2422),\n ('research', 2298),\n ('for', 2059),\n ('national', 2018),\n ('the', 1975),\n ('germany', 1713),\n ('sciences', 1579),\n ('systems', 1456)]"
     },
     "metadata": {},
     "output_type": "execute_result",
     "execution_count": 25
    }
   ],
   "source": [
    "Counter(countlist.replace(\",\",' ').split(' ')).most_common(20)"
   ],
   "metadata": {
    "collapsed": false,
    "pycharm": {
     "name": "#%%\n",
     "is_executing": false
    }
   }
  },
  {
   "cell_type": "code",
   "execution_count": null,
   "outputs": [],
   "source": [
    "df.value_counts\n"
   ],
   "metadata": {
    "collapsed": false,
    "pycharm": {
     "name": "#%%\n"
    }
   }
  }
 ],
 "metadata": {
  "language_info": {
   "codemirror_mode": {
    "name": "ipython",
    "version": 2
   },
   "file_extension": ".py",
   "mimetype": "text/x-python",
   "name": "python",
   "nbconvert_exporter": "python",
   "pygments_lexer": "ipython2",
   "version": "2.7.6"
  },
  "kernelspec": {
   "name": "python3",
   "language": "python",
   "display_name": "Python 3"
  },
  "pycharm": {
   "stem_cell": {
    "cell_type": "raw",
    "source": [],
    "metadata": {
     "collapsed": false
    }
   }
  }
 },
 "nbformat": 4,
 "nbformat_minor": 0
}