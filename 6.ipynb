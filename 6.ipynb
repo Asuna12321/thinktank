{
 "cells": [
  {
   "cell_type": "code",
   "execution_count": 1,
   "outputs": [],
   "source": [
    "from process import *\n",
    "import re\n",
    "from collections import Counter\n",
    "from utils import *"
   ],
   "metadata": {
    "collapsed": false,
    "pycharm": {
     "name": "#%%\n",
     "is_executing": false
    }
   }
  },
  {
   "cell_type": "code",
   "execution_count": 2,
   "outputs": [],
   "source": [
    "paper_df = read_csv(DATA_PATH, 'paper.csv')"
   ],
   "metadata": {
    "collapsed": false,
    "pycharm": {
     "name": "#%%\n",
     "is_executing": false
    }
   }
  },
  {
   "cell_type": "code",
   "execution_count": 3,
   "outputs": [],
   "source": [
    "df = pd.DataFrame()\n",
    "df['aff'] = paper_df['affiliation'].astype('str').apply(lambda s: re.sub('#.*?#', '', s))"
   ],
   "metadata": {
    "collapsed": false,
    "pycharm": {
     "name": "#%%\n",
     "is_executing": false
    }
   }
  },
  {
   "cell_type": "code",
   "execution_count": 4,
   "outputs": [
    {
     "name": "stderr",
     "text": [
      "\r  0%|          | 0/26 [00:00<?, ?it/s]",
      "\r 23%|██▎       | 6/26 [00:00<00:00, 46.28it/s]",
      "\r 46%|████▌     | 12/26 [00:02<00:01,  8.64it/s]",
      "\r 69%|██████▉   | 18/26 [00:02<00:00, 11.32it/s]",
      "\r 92%|█████████▏| 24/26 [00:02<00:00, 14.96it/s]",
      "\r100%|██████████| 26/26 [00:02<00:00, 10.86it/s]",
      "\n"
     ],
     "output_type": "stream"
    }
   ],
   "source": [
    "df['aff'] = df['aff'].apply(lambda x: x.lower())\n",
    "df['aff'] = multiprocess_str(split_data(df, size=2000), 'aff')"
   ],
   "metadata": {
    "collapsed": false,
    "pycharm": {
     "name": "#%%\n",
     "is_executing": false
    }
   }
  },
  {
   "cell_type": "code",
   "execution_count": 5,
   "outputs": [],
   "source": [
    "def process(line):\n",
    "    strings = line.split(',')\n",
    "    def extract(string):\n",
    "        pat = re.compile('[a-z]+')\n",
    "        string_ = ' '.join(re.findall(pat, string))\n",
    "        return string_\n",
    "    return ','.join([extract(string) for string in strings if extract(string)])\n",
    "        \n",
    "df['processed_aff'] = df['aff'].apply(process)"
   ],
   "metadata": {
    "collapsed": false,
    "pycharm": {
     "name": "#%%\n",
     "is_executing": false
    }
   }
  },
  {
   "cell_type": "code",
   "execution_count": 6,
   "outputs": [
    {
     "data": {
      "text/plain": "array(['university', nan, 'universite', 'universidade', 'universiteit',\n       'universitat', 'universidad', 'universiti', 'universit',\n       'universita', 'universitaet', 'universityaparis', 'univerity',\n       'universityof', 'universitaire', 'universitario', 'universitede',\n       'universitatsklinikum', 'universiy', 'universityskopje',\n       'universitatsmedizin', 'universitaria', 'universty',\n       'universityiminds', 'universitet', 'universities', 'univerisity',\n       'univeristy', 'universitybrooklyn', 'universitt',\n       'universityvietnam', 'universityhospital', 'univac',\n       'universitares', 'universitas', 'universtiy', 'universitats',\n       'universites', 'univertity', 'universidadefederal',\n       'universitylouaize', 'universitetet', 'universal',\n       'universityibbt', 'universiry', 'universtat',\n       'universitydepartment', 'universityekaterinburg', 'univeristat',\n       'universtity', 'universityxian', 'universityzofzmelbourne',\n       'universityuniversity', 'univercity', 'universiad',\n       'universitychico', 'universityusa', 'universidadde',\n       'universitaires', 'universltat', 'universityprague', 'universiity',\n       'universitynew', 'univesityzofztechnology', 'universitaat',\n       'universitycomputer', 'universtitat', 'univrsity', 'univerzita',\n       'univesity', 'universitysuny', 'universityschool', 'universi',\n       'universitycolumbia', 'univiersity', 'univertitat',\n       'universitykingsville', 'universityrussia', 'universityhakodate',\n       'universityfreudenthal', 'universat', 'universitytul',\n       'universitycommerce', 'universitatshochhaus', 'univerisiti',\n       'universitytransnationale', 'universityhigher', 'universitty',\n       'universitatgh', 'universitety', 'universitycollege',\n       'universitiy', 'universityfaculty', 'universitatsklinikums',\n       'universitatberlin', 'universitesi', 'universitytulibbt',\n       'univers', 'universititeknologi'], dtype=object)"
     },
     "metadata": {},
     "output_type": "execute_result",
     "execution_count": 6
    }
   ],
   "source": [
    "pd.unique(df['processed_aff'].apply(lambda x: re.findall('univ[a-z]+', x)[0] if re.findall('univ[a-z]+', x) else np.nan))"
   ],
   "metadata": {
    "collapsed": false,
    "pycharm": {
     "name": "#%%\n",
     "is_executing": false
    }
   }
  },
  {
   "cell_type": "code",
   "execution_count": 7,
   "outputs": [],
   "source": [
    "reg_ = pd.unique(df['processed_aff'].apply(lambda x: x.split(',')[-1]))\n",
    "reg__ = np.array([x for x in reg_ if len(x.split())==1])"
   ],
   "metadata": {
    "collapsed": false,
    "pycharm": {
     "name": "#%%\n",
     "is_executing": false
    }
   }
  },
  {
   "cell_type": "code",
   "execution_count": 8,
   "outputs": [],
   "source": [
    "def split_univ(aff):\n",
    "    for x in aff.split(','):\n",
    "        for x_ in x.split():\n",
    "            if x_.startswith('univ'):\n",
    "                return x\n",
    "\n",
    "df['univ1'] = df['processed_aff'].apply(split_univ)"
   ],
   "metadata": {
    "collapsed": false,
    "pycharm": {
     "name": "#%%\n",
     "is_executing": false
    }
   }
  },
  {
   "cell_type": "code",
   "execution_count": 9,
   "outputs": [
    {
     "data": {
      "text/plain": "14227"
     },
     "metadata": {},
     "output_type": "execute_result",
     "execution_count": 9
    }
   ],
   "source": [
    "df['univ1'].isna().sum()"
   ],
   "metadata": {
    "collapsed": false,
    "pycharm": {
     "name": "#%%\n",
     "is_executing": false
    }
   }
  },
  {
   "cell_type": "code",
   "execution_count": 10,
   "outputs": [],
   "source": [
    "univs = pd.unique(df['univ1'])"
   ],
   "metadata": {
    "collapsed": false,
    "pycharm": {
     "name": "#%%\n",
     "is_executing": false
    }
   }
  },
  {
   "cell_type": "code",
   "execution_count": 11,
   "outputs": [],
   "source": [
    "univ_df = pd.DataFrame()\n",
    "univ_df['university'] = univs"
   ],
   "metadata": {
    "collapsed": false,
    "pycharm": {
     "name": "#%%\n",
     "is_executing": false
    }
   }
  },
  {
   "cell_type": "code",
   "execution_count": 12,
   "outputs": [],
   "source": [
    "chrs = set()\n",
    "chrs = chrs.union(*df['aff'].apply(set))"
   ],
   "metadata": {
    "collapsed": false,
    "pycharm": {
     "name": "#%%\n",
     "is_executing": false
    }
   }
  },
  {
   "cell_type": "code",
   "execution_count": 13,
   "outputs": [],
   "source": [
    "for i in list(chrs)[680:]:\n",
    "    print(i)"
   ],
   "metadata": {
    "collapsed": false,
    "pycharm": {
     "name": "#%%\n",
     "is_executing": false
    }
   }
  },
  {
   "cell_type": "code",
   "execution_count": 14,
   "outputs": [],
   "source": [
    "word_count = Counter(' '.join(df['processed_aff'].values).replace(\",\",' ').split(' '))"
   ],
   "metadata": {
    "collapsed": false,
    "pycharm": {
     "name": "#%%\n",
     "is_executing": false
    }
   }
  },
  {
   "cell_type": "code",
   "execution_count": 15,
   "outputs": [],
   "source": [
    "univ_count = df['univ1'].value_counts()"
   ],
   "metadata": {
    "collapsed": false,
    "pycharm": {
     "name": "#%%\n",
     "is_executing": false
    }
   }
  },
  {
   "cell_type": "code",
   "execution_count": 16,
   "outputs": [
    {
     "name": "stderr",
     "text": [
      "C:\\ProgramData\\Anaconda3\\lib\\site-packages\\ipykernel_launcher.py:1: FutureWarning: The signature of `Series.to_csv` was aligned to that of `DataFrame.to_csv`, and argument 'header' will change its default value from False to True: please pass an explicit value to suppress this warning.\n  \"\"\"Entry point for launching an IPython kernel.\n"
     ],
     "output_type": "stream"
    }
   ],
   "source": [
    "univ_count.to_csv('univ_count.csv')"
   ],
   "metadata": {
    "collapsed": false,
    "pycharm": {
     "name": "#%%\n",
     "is_executing": false
    }
   }
  },
  {
   "cell_type": "code",
   "execution_count": 17,
   "outputs": [
    {
     "data": {
      "text/plain": "21807"
     },
     "metadata": {},
     "output_type": "execute_result",
     "execution_count": 17
    }
   ],
   "source": [
    "univ_count[:700].sum()"
   ],
   "metadata": {
    "collapsed": false,
    "pycharm": {
     "name": "#%%\n",
     "is_executing": false
    }
   }
  },
  {
   "cell_type": "code",
   "execution_count": 18,
   "outputs": [],
   "source": [
    "word_count_df = pd.DataFrame()\n",
    "word_count_df['word'] = word_count.keys()\n",
    "word_count_df['count'] = word_count.values()"
   ],
   "metadata": {
    "collapsed": false,
    "pycharm": {
     "name": "#%%\n",
     "is_executing": false
    }
   }
  },
  {
   "cell_type": "code",
   "execution_count": 19,
   "outputs": [],
   "source": [
    "word_count_df = word_count_df.sort_values('count', ascending=False).reset_index(drop=True)"
   ],
   "metadata": {
    "collapsed": false,
    "pycharm": {
     "name": "#%%\n",
     "is_executing": false
    }
   }
  },
  {
   "cell_type": "code",
   "execution_count": 19,
   "outputs": [],
   "source": [],
   "metadata": {
    "collapsed": false,
    "pycharm": {
     "name": "#%%\n",
     "is_executing": false
    }
   }
  },
  {
   "cell_type": "code",
   "execution_count": 20,
   "outputs": [
    {
     "traceback": [
      "\u001b[1;31m---------------------------------------------------------------------------\u001b[0m",
      "\u001b[1;31mNameError\u001b[0m                                 Traceback (most recent call last)",
      "\u001b[1;32m<ipython-input-20-e57409410194>\u001b[0m in \u001b[0;36m<module>\u001b[1;34m\u001b[0m\n\u001b[1;32m----> 1\u001b[1;33m \u001b[0mpaper\u001b[0m\u001b[1;33m\u001b[0m\u001b[1;33m\u001b[0m\u001b[0m\n\u001b[0m\u001b[0;32m      2\u001b[0m \u001b[1;33m\u001b[0m\u001b[0m\n",
      "\u001b[1;31mNameError\u001b[0m: name 'paper' is not defined"
     ],
     "ename": "NameError",
     "evalue": "name 'paper' is not defined",
     "output_type": "error"
    }
   ],
   "source": [
    "paper"
   ],
   "metadata": {
    "collapsed": false,
    "pycharm": {
     "name": "#%%\n",
     "is_executing": false
    }
   }
  },
  {
   "cell_type": "code",
   "execution_count": null,
   "outputs": [],
   "source": [],
   "metadata": {
    "collapsed": false,
    "pycharm": {
     "name": "#%%\n",
     "is_executing": false
    }
   }
  }
 ],
 "metadata": {
  "language_info": {
   "codemirror_mode": {
    "name": "ipython",
    "version": 2
   },
   "file_extension": ".py",
   "mimetype": "text/x-python",
   "name": "python",
   "nbconvert_exporter": "python",
   "pygments_lexer": "ipython2",
   "version": "2.7.6"
  },
  "kernelspec": {
   "name": "python3",
   "language": "python",
   "display_name": "Python 3"
  },
  "pycharm": {
   "stem_cell": {
    "cell_type": "raw",
    "source": [],
    "metadata": {
     "collapsed": false
    }
   }
  }
 },
 "nbformat": 4,
 "nbformat_minor": 0
}